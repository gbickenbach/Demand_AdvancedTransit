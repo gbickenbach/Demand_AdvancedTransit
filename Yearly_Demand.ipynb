{
  "nbformat": 4,
  "nbformat_minor": 0,
  "metadata": {
    "colab": {
      "provenance": []
    },
    "kernelspec": {
      "name": "python3",
      "display_name": "Python 3"
    },
    "language_info": {
      "name": "python"
    }
  },
  "cells": [
    {
      "cell_type": "code",
      "execution_count": null,
      "metadata": {
        "id": "eoITbpKfZ_Ni"
      },
      "outputs": [],
      "source": [
        "import pandas as pd"
      ]
    },
    {
      "cell_type": "code",
      "source": [
        "January = pd.read_csv(\"drive/MyDrive/FYREE/Demand by Month/Demand_January.csv\")\n",
        "February = pd.read_csv(\"drive/MyDrive/FYREE/Demand by Month/Demand_February.csv\")\n",
        "March = pd.read_csv(\"drive/MyDrive/FYREE/Demand by Month/Demand_March.csv\")\n",
        "April = pd.read_csv(\"drive/MyDrive/FYREE/Demand by Month/Demand_April.csv\")\n",
        "May = pd.read_csv(\"drive/MyDrive/FYREE/Demand by Month/Demand_May.csv\")\n",
        "June = pd.read_csv(\"drive/MyDrive/FYREE/Demand by Month/Demand_June.csv\")\n",
        "July = pd.read_csv(\"drive/MyDrive/FYREE/Demand by Month/Demand_July.csv\")\n",
        "August = pd.read_csv(\"drive/MyDrive/FYREE/Demand by Month/Demand_August.csv\")\n",
        "September = pd.read_csv(\"drive/MyDrive/FYREE/Demand by Month/Demand_September.csv\")\n",
        "October = pd.read_csv(\"drive/MyDrive/FYREE/Demand by Month/Demand_October.csv\")\n",
        "November = pd.read_csv(\"drive/MyDrive/FYREE/Demand by Month/Demand_November.csv\")\n",
        "December = pd.read_csv(\"drive/MyDrive/FYREE/Demand by Month/Demand_December.csv\")"
      ],
      "metadata": {
        "id": "7aidaaLEaBep"
      },
      "execution_count": null,
      "outputs": []
    },
    {
      "cell_type": "code",
      "source": [
        "year = pd.DataFrame()\n",
        "year = year.append([July, August, September, October, November, December, January, February, March, April, May, June], ignore_index=True)\n",
        "year = year.drop(columns=\"Unnamed: 0\")\n",
        "year[\"Total\"] = \"\"\n",
        "year = year.set_index(\"Station\")\n",
        "year"
      ],
      "metadata": {
        "id": "bYJ9-Q_ahaX7"
      },
      "execution_count": null,
      "outputs": []
    },
    {
      "cell_type": "code",
      "source": [
        "stations = pd.Series(year[\"Station\"].unique())"
      ],
      "metadata": {
        "id": "De0DhMeGigjI"
      },
      "execution_count": null,
      "outputs": []
    },
    {
      "cell_type": "code",
      "source": [
        "stat = pd.Series()\n",
        "tot = pd.Series()"
      ],
      "metadata": {
        "id": "Uxoyq37Xlniz"
      },
      "execution_count": null,
      "outputs": []
    },
    {
      "cell_type": "code",
      "source": [
        "h = pd.DataFrame()\n",
        "h[\"Station\"] = stations\n",
        "h[\"Total\"] = \"\"\n",
        "h"
      ],
      "metadata": {
        "id": "g3tAfBq3oyVe"
      },
      "execution_count": null,
      "outputs": []
    },
    {
      "cell_type": "code",
      "source": [
        "for i, station in enumerate(stations):\n",
        "  total = 0\n",
        "  for m in year.loc[station].iloc[:,0]:\n",
        "    total = total + m\n",
        "  print(total)"
      ],
      "metadata": {
        "id": "VFXEBM2zipX7"
      },
      "execution_count": null,
      "outputs": []
    },
    {
      "cell_type": "code",
      "source": [
        "h.to_csv('drive/MyDrive/FYREE/Yearly Demand/yearly_demand.csv')"
      ],
      "metadata": {
        "id": "DvW-aHuIqCdd"
      },
      "execution_count": null,
      "outputs": []
    }
  ]
}