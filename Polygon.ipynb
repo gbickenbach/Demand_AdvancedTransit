{
  "nbformat": 4,
  "nbformat_minor": 0,
  "metadata": {
    "colab": {
      "provenance": [],
      "mount_file_id": "1VPqmnoOEUuAEcI7JkvxeViucAiFn7NSF",
      "authorship_tag": "ABX9TyMfwD/ZfqlBM+58V21WJV/0",
      "include_colab_link": true
    },
    "kernelspec": {
      "name": "python3",
      "display_name": "Python 3"
    },
    "language_info": {
      "name": "python"
    }
  },
  "cells": [
    {
      "cell_type": "markdown",
      "metadata": {
        "id": "view-in-github",
        "colab_type": "text"
      },
      "source": [
        "<a href=\"https://colab.research.google.com/github/gbickenbach/Demand_AdvancedTransit/blob/main/Polygon.ipynb\" target=\"_parent\"><img src=\"https://colab.research.google.com/assets/colab-badge.svg\" alt=\"Open In Colab\"/></a>"
      ]
    },
    {
      "cell_type": "code",
      "execution_count": null,
      "metadata": {
        "id": "odxVf_yQA0DF"
      },
      "outputs": [],
      "source": [
        "import pandas as pd\n",
        "data = pd.read_csv(\"drive/MyDrive/FYREE/Real/MERGED_DATA.csv\")"
      ]
    },
    {
      "cell_type": "code",
      "source": [
        "data = data.drop(columns = \"Unnamed: 0\")"
      ],
      "metadata": {
        "id": "RJReTP0Jit-8"
      },
      "execution_count": null,
      "outputs": []
    },
    {
      "cell_type": "code",
      "source": [
        "data"
      ],
      "metadata": {
        "id": "Mj3MFdzgoNQ5"
      },
      "execution_count": null,
      "outputs": []
    },
    {
      "cell_type": "code",
      "source": [
        "from shapely.geometry import Point, Polygon\n",
        "coordsMiddlebury = [[44.03274957236874, -73.18606560533672],[44.02758053701928, -73.14604180326491], [44.00495827173, -73.13791825980908], [43.995083691510274, -73.14433168075891], [43.99004373406096, -73.18471290470626], [44.00908018671608, -73.1891278622512]]\n",
        "polyMid = Polygon(coordsMiddlebury)\n",
        "MidTrips = pd.DataFrame()\n",
        "for i, row in enumerate (data.iloc[:,13]):\n",
        "  work = Point([float(row), float(data.iloc[i,14])])\n",
        "  home = Point([float(data.iloc[i,15]), float(data.iloc[i,16])])\n",
        "  if (home.within(polyMid))&(work.within(polyMid)):\n",
        "    MidTrips = MidTrips.append(data.iloc[i])\n"
      ],
      "metadata": {
        "id": "eCxuLHAft-_h"
      },
      "execution_count": null,
      "outputs": []
    },
    {
      "cell_type": "code",
      "source": [
        "MidTrips = MidTrips.sort_values(by = ['w_geocode', 'h_geocode'], ascending = [True, True], na_position = 'first')"
      ],
      "metadata": {
        "id": "3Lo1k_jvyJhC"
      },
      "execution_count": null,
      "outputs": []
    },
    {
      "cell_type": "code",
      "source": [
        "MidTrips.iloc[:, 0] = MidTrips.iloc[:, 0].apply(lambda x: '%.0f' % x)"
      ],
      "metadata": {
        "id": "XZBVLZkCytUo"
      },
      "execution_count": null,
      "outputs": []
    },
    {
      "cell_type": "code",
      "source": [
        "MidTrips.iloc[:, 1] = MidTrips.iloc[:, 1].apply(lambda x: '%.0f' % x)"
      ],
      "metadata": {
        "id": "mbzm2asuzwDO"
      },
      "execution_count": null,
      "outputs": []
    },
    {
      "cell_type": "code",
      "source": [
        "MidTrips.to_csv(\"drive/MyDrive/FYREE/Part Four/data.csv\")"
      ],
      "metadata": {
        "id": "aCzXoUGMzbhz"
      },
      "execution_count": null,
      "outputs": []
    },
    {
      "cell_type": "code",
      "source": [
        "middlebury = pd.DataFrame()"
      ],
      "metadata": {
        "id": "D6GrRLqX7nYh"
      },
      "execution_count": null,
      "outputs": []
    },
    {
      "cell_type": "code",
      "source": [
        "for i, row in enumerate(MidTrips.iloc[:, 20]):\n",
        "  if (row == 960800.0)&(MidTrips.iloc[i, 19]== 960800.0):\n",
        "    middlebury = middlebury.append(MidTrips.iloc[i])"
      ],
      "metadata": {
        "id": "6aEEmjzpqI4G"
      },
      "execution_count": null,
      "outputs": []
    },
    {
      "cell_type": "code",
      "source": [
        "middlebury = middlebury.sort_values(by = ['w_geocode', 'h_geocode'], ascending = [True, True], na_position = 'first')"
      ],
      "metadata": {
        "id": "RtU3Bp6x0eHr"
      },
      "execution_count": null,
      "outputs": []
    },
    {
      "cell_type": "code",
      "source": [
        "middlebury.to_csv(\"drive/MyDrive/FYREE/Real/Middlebury_Demand.csv\")"
      ],
      "metadata": {
        "id": "9VlYaEvc0zEz"
      },
      "execution_count": null,
      "outputs": []
    }
  ]
}